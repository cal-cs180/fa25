{
 "cells": [
  {
   "cell_type": "markdown",
   "metadata": {},
   "source": [
    "# Computer Vision Basics with NumPy\n",
    "\n",
    "This notebook covers fundamental operations for working with images in computer vision using NumPy."
   ]
  },
  {
   "cell_type": "markdown",
   "metadata": {},
   "source": [
    "## 1. Import Libraries"
   ]
  },
  {
   "cell_type": "code",
   "execution_count": null,
   "metadata": {},
   "outputs": [],
   "source": [
    "import numpy as np                    # For numerical operations and array handling\n",
    "import matplotlib.pyplot as plt        # For displaying images and plots\n",
    "import imageio.v3 as iio               # For loading/saving images (preferred)\n",
    "import cv2                             # OpenCV for computer vision operations"
   ]
  },
  {
   "cell_type": "markdown",
   "metadata": {},
   "source": [
    "## 2. Loading Images\n",
    "\n",
    "There are several ways to load images. Here are two common methods:"
   ]
  },
  {
   "cell_type": "markdown",
   "metadata": {},
   "source": [
    "### Method 1: Using imageio (Recommended)"
   ]
  },
  {
   "cell_type": "code",
   "execution_count": null,
   "metadata": {},
   "outputs": [],
   "source": [
    "# Load an image using imageio\n",
    "# Replace 'your_image.jpg' with the path to your image\n",
    "image = iio.imread('your_image.jpg')\n",
    "\n",
    "print(f\"Image shape: {image.shape}\")\n",
    "print(f\"Image dtype: {image.dtype}\")\n",
    "print(f\"Min value: {image.min()}, Max value: {image.max()}\")"
   ]
  },
  {
   "cell_type": "markdown",
   "metadata": {},
   "source": [
    "### Method 2: Using OpenCV"
   ]
  },
  {
   "cell_type": "code",
   "execution_count": null,
   "metadata": {},
   "outputs": [],
   "source": [
    "# Load an image using OpenCV\n",
    "image_cv2 = cv2.imread('your_image.jpg')\n",
    "\n",
    "# Note: OpenCV loads images in BGR format, convert to RGB for display\n",
    "image_cv2_rgb = cv2.cvtColor(image_cv2, cv2.COLOR_BGR2RGB)\n",
    "\n",
    "print(f\"OpenCV image shape: {image_cv2_rgb.shape}\")"
   ]
  },
  {
   "cell_type": "markdown",
   "metadata": {},
   "source": [
    "### Loading a Sample Image\n",
    "\n",
    "Let's load a sample image using imageio's built-in test images. You can replace this with a real file path to your image if you want!"
   ]
  },
  {
   "cell_type": "code",
   "execution_count": null,
   "metadata": {},
   "outputs": [],
   "source": [
    "# Load a sample image using imageio's built-in test images\n",
    "sample_image = iio.imread('imageio:chelsea.png') # can be .jpg, .png, .gif, .mp4, etc.\n",
    "\n",
    "print(f\"Sample image shape: {sample_image.shape}\")\n",
    "print(f\"Image dtype: {sample_image.dtype}\")\n",
    "print(f\"Min value: {sample_image.min()}, Max value: {sample_image.max()}\")"
   ]
  },
  {
   "cell_type": "markdown",
   "metadata": {},
   "source": [
    "## 3. Saving images"
   ]
  },
  {
   "cell_type": "code",
   "execution_count": null,
   "metadata": {},
   "outputs": [],
   "source": [
    "# Save the sample image locally using imageio\n",
    "iio.imwrite('saved_sample_image.jpg', sample_image)\n",
    "print(\"Sample image saved as 'saved_sample_image.jpg'\")\n",
    "\n",
    "# You can also save in different formats\n",
    "iio.imwrite('saved_sample_image.png', sample_image)\n",
    "print(\"Sample image also saved as 'saved_sample_image.png'\")"
   ]
  },
  {
   "cell_type": "markdown",
   "metadata": {},
   "source": [
    "## 4. Visualizing Images"
   ]
  },
  {
   "cell_type": "markdown",
   "metadata": {},
   "source": [
    "### 4.0 Basic visualization"
   ]
  },
  {
   "cell_type": "code",
   "execution_count": null,
   "metadata": {},
   "outputs": [],
   "source": [
    "# Display the sample image we created earlier\n",
    "plt.imshow(sample_image)\n",
    "plt.title('Sample RGB Image')\n",
    "\n",
    "# For illustration purposes lets put a green dot at (0,0), a red dot at (h/2, w/2), and a blue dot at (h-1,w-1)\n",
    "# PLotting on top of an image can be very helpful for debugging!\n",
    "plt.scatter(0, 0, color='g', marker='*')\n",
    "plt.scatter(sample_image.shape[1]//2, sample_image.shape[0]//2, color='r', marker='*')\n",
    "plt.scatter(sample_image.shape[1]-1, sample_image.shape[0]-1, color='b', marker='*')\n",
    "plt.show()\n"
   ]
  },
  {
   "cell_type": "code",
   "execution_count": null,
   "metadata": {},
   "outputs": [],
   "source": [
    "# You can also plot many images at once! for example a row of 2 images:\n",
    "fig, axs = plt.subplots(1, 2)\n",
    "axs[0].imshow(sample_image)\n",
    "axs[0].set_title('Im 1')\n",
    "axs[0].axis('off')\n",
    "\n",
    "axs[1].imshow(sample_image)\n",
    "axs[1].set_title('Im 2')"
   ]
  },
  {
   "cell_type": "markdown",
   "metadata": {},
   "source": [
    "### 4.1 Understanding BGR vs RGB\n",
    "\n",
    "This is a common source of confusion! Different libraries use different color channel orders:\n",
    "- **imageio**: Loads images in RGB format (Red, Green, Blue)\n",
    "- **OpenCV**: Loads images in BGR format (Blue, Green, Red) \n",
    "- **matplotlib**: Expects RGB format for display\n",
    "\n",
    "Let's demonstrate this with a real example:"
   ]
  },
  {
   "cell_type": "markdown",
   "metadata": {},
   "source": [
    "### 4.2 Displaying Images Properly"
   ]
  },
  {
   "cell_type": "code",
   "execution_count": null,
   "metadata": {},
   "outputs": [],
   "source": [
    "# Demonstrate BGR vs RGB using our sample_image\n",
    "# First, let's simulate loading with imageio (RGB format) - this is what we already have\n",
    "sample_image_rgb = sample_image.copy()  # This is in RGB format\n",
    "\n",
    "# Now simulate what OpenCV imread would return (BGR format)\n",
    "sample_image_bgr = sample_image[:, :, [2, 1, 0]]  # Swap red and blue channels\n",
    "\n",
    "plt.figure(figsize=(15, 4))\n",
    "\n",
    "plt.subplot(1, 3, 1)\n",
    "plt.imshow(sample_image_rgb)\n",
    "plt.title('imageio format (RGB - Correct)\\nRed | Green | Blue')\n",
    "plt.axis('off')\n",
    "\n",
    "plt.subplot(1, 3, 2)\n",
    "plt.imshow(sample_image_bgr)\n",
    "plt.title('OpenCV format in matplotlib (BGR - Wrong!)\\nBlue | Green | Red')\n",
    "plt.axis('off')\n",
    "\n",
    "# Convert BGR back to RGB for proper display\n",
    "sample_image_rgb_corrected = cv2.cvtColor(sample_image_bgr, cv2.COLOR_BGR2RGB)\n",
    "plt.subplot(1, 3, 3)\n",
    "plt.imshow(sample_image_rgb_corrected)\n",
    "plt.title('BGR→RGB Converted (Correct)\\nRed | Green | Blue')\n",
    "plt.axis('off')\n",
    "\n",
    "plt.tight_layout()\n",
    "plt.show()\n",
    "\n",
    "print(\"Key takeaway: Always convert OpenCV images to RGB before displaying with matplotlib!\")\n",
    "print(\"Use: cv2.cvtColor(image, cv2.COLOR_BGR2RGB)\")"
   ]
  },
  {
   "cell_type": "markdown",
   "metadata": {},
   "source": [
    "## 5. Basic Image Operations"
   ]
  },
  {
   "cell_type": "markdown",
   "metadata": {},
   "source": [
    "### 5.1 Image Information"
   ]
  },
  {
   "cell_type": "code",
   "execution_count": null,
   "metadata": {},
   "outputs": [],
   "source": [
    "# Get basic image information\n",
    "height, width, channels = sample_image.shape\n",
    "\n",
    "print(f\"Height: {height} pixels\")\n",
    "print(f\"Width: {width} pixels\")\n",
    "print(f\"Channels: {channels}\")\n",
    "print(f\"Total pixels: {height * width}\")\n",
    "print(f\"Data type: {sample_image.dtype}\")"
   ]
  },
  {
   "cell_type": "markdown",
   "metadata": {},
   "source": [
    "### 5.2 Cropping Images"
   ]
  },
  {
   "cell_type": "code",
   "execution_count": null,
   "metadata": {},
   "outputs": [],
   "source": [
    "# Crop a region from the image\n",
    "# Syntax: image[start_row:end_row, start_col:end_col, :]\n",
    "cropped = sample_image[50:150, 75:225, :]\n",
    "\n",
    "plt.figure(figsize=(12, 4))\n",
    "\n",
    "plt.subplot(1, 2, 1)\n",
    "plt.imshow(sample_image)\n",
    "plt.title('Original Image')\n",
    "plt.axis('off')\n",
    "\n",
    "plt.subplot(1, 2, 2)\n",
    "plt.imshow(cropped)\n",
    "plt.title('Cropped Image')\n",
    "plt.axis('off')\n",
    "\n",
    "plt.tight_layout()\n",
    "plt.show()\n",
    "\n",
    "print(f\"Original shape: {sample_image.shape}\")\n",
    "print(f\"Cropped shape: {cropped.shape}\")"
   ]
  },
  {
   "cell_type": "markdown",
   "metadata": {},
   "source": [
    "### 5.3 Resizing Images"
   ]
  },
  {
   "cell_type": "code",
   "execution_count": null,
   "metadata": {},
   "outputs": [],
   "source": [
    "# Resize image using OpenCV\n",
    "new_height, new_width = 100, 150\n",
    "resized = cv2.resize(sample_image, (new_width, new_height))\n",
    "\n",
    "plt.figure(figsize=(12, 4))\n",
    "\n",
    "plt.subplot(1, 2, 1)\n",
    "plt.imshow(sample_image)\n",
    "plt.title(f'Original ({sample_image.shape[1]}x{sample_image.shape[0]})')\n",
    "plt.axis('off')\n",
    "\n",
    "plt.subplot(1, 2, 2)\n",
    "plt.imshow(resized)\n",
    "plt.title(f'Resized ({resized.shape[1]}x{resized.shape[0]})')\n",
    "plt.axis('off')\n",
    "\n",
    "plt.tight_layout()\n",
    "plt.show()\n",
    "print(f\"Original shape: {sample_image.shape}\")\n",
    "print(f\"Resized shape: {resized.shape}\")\n"
   ]
  },
  {
   "cell_type": "markdown",
   "metadata": {},
   "source": [
    "### 5.4 Converting to Grayscale"
   ]
  },
  {
   "cell_type": "code",
   "execution_count": null,
   "metadata": {},
   "outputs": [],
   "source": [
    "# Convert RGB to grayscale using weighted average\n",
    "grayscale = np.dot(sample_image[...,:3], [0.2989, 0.5870, 0.1140])\n",
    "grayscale = grayscale.astype(np.uint8)\n",
    "\n",
    "# Naive version without scaling \n",
    "grayscale_mean = np.mean(sample_image, axis=2).astype(np.uint8)\n",
    "\n",
    "plt.figure(figsize=(15, 4))\n",
    "\n",
    "plt.subplot(1, 3, 1)\n",
    "plt.imshow(sample_image)\n",
    "plt.title('Original RGB')\n",
    "plt.axis('off')\n",
    "\n",
    "plt.subplot(1, 3, 2)\n",
    "plt.imshow(grayscale, cmap='gray')\n",
    "plt.title('Grayscale (Weighted Avg)')\n",
    "plt.axis('off')\n",
    "\n",
    "plt.subplot(1, 3, 3)\n",
    "plt.imshow(grayscale_mean, cmap='gray')\n",
    "plt.title('Grayscale (Average)')\n",
    "plt.axis('off')\n",
    "\n",
    "plt.tight_layout()\n",
    "plt.show()\n",
    "\n",
    "print(f\"RGB shape: {sample_image.shape}\")\n",
    "print(f\"Grayscale shape: {grayscale.shape}\")"
   ]
  },
  {
   "cell_type": "markdown",
   "metadata": {},
   "source": [
    "### 5.5 Flipping Images"
   ]
  },
  {
   "cell_type": "code",
   "execution_count": null,
   "metadata": {},
   "outputs": [],
   "source": [
    "# Flip images using NumPy\n",
    "flipped_horizontal = sample_image[:, ::-1, :]  # Left-right flip using indexing\n",
    "flipped_vertical = sample_image[::-1, :, :]    # Up-down flip using indexing\n",
    "\n",
    "plt.figure(figsize=(15, 4))\n",
    "\n",
    "plt.subplot(1, 3, 1)\n",
    "plt.imshow(sample_image)\n",
    "plt.title('Original')\n",
    "plt.axis('off')\n",
    "\n",
    "plt.subplot(1, 3, 2)\n",
    "plt.imshow(flipped_horizontal)\n",
    "plt.title('Horizontally Flipped')\n",
    "plt.axis('off')\n",
    "\n",
    "plt.subplot(1, 3, 3)\n",
    "plt.imshow(flipped_vertical)\n",
    "plt.title('Vertically Flipped')\n",
    "plt.axis('off')\n",
    "\n",
    "plt.tight_layout()\n",
    "plt.show()"
   ]
  },
  {
   "cell_type": "markdown",
   "metadata": {},
   "source": [
    "### 5.6 Basic Image Arithmetic"
   ]
  },
  {
   "cell_type": "code",
   "execution_count": null,
   "metadata": {},
   "outputs": [],
   "source": [
    "# Brighten image (add constant)\n",
    "brighter = np.clip(sample_image.astype(np.int16) + 50, 0, 255).astype(np.uint8)\n",
    "\n",
    "# Darken image (subtract constant)\n",
    "darker = np.clip(sample_image.astype(np.int16) - 50, 0, 255).astype(np.uint8)\n",
    "\n",
    "# Increase contrast (multiply by factor)\n",
    "contrast = np.clip(sample_image.astype(np.float32) * 1.5, 0, 255).astype(np.uint8)\n",
    "\n",
    "plt.figure(figsize=(16, 4))\n",
    "\n",
    "plt.subplot(1, 4, 1)\n",
    "plt.imshow(sample_image)\n",
    "plt.title('Original')\n",
    "plt.axis('off')\n",
    "\n",
    "plt.subplot(1, 4, 2)\n",
    "plt.imshow(brighter)\n",
    "plt.title('Brighter (+50)')\n",
    "plt.axis('off')\n",
    "\n",
    "plt.subplot(1, 4, 3)\n",
    "plt.imshow(darker)\n",
    "plt.title('Darker (-50)')\n",
    "plt.axis('off')\n",
    "\n",
    "plt.subplot(1, 4, 4)\n",
    "plt.imshow(contrast)\n",
    "plt.title('Higher Contrast (×1.5)')\n",
    "plt.axis('off')\n",
    "\n",
    "plt.tight_layout()\n",
    "plt.show()"
   ]
  },
  {
   "cell_type": "markdown",
   "metadata": {},
   "source": [
    "## 6. Working with Individual Color Channels"
   ]
  },
  {
   "cell_type": "code",
   "execution_count": null,
   "metadata": {},
   "outputs": [],
   "source": [
    "# Create 3-channel images where all but one channel are zero\n",
    "red_only = np.zeros_like(sample_image)\n",
    "red_only[:, :, 0] = sample_image[:, :, 0]  # Keep only red channel\n",
    "\n",
    "green_only = np.zeros_like(sample_image)\n",
    "green_only[:, :, 1] = sample_image[:, :, 1]  # Keep only green channel\n",
    "\n",
    "blue_only = np.zeros_like(sample_image)\n",
    "blue_only[:, :, 2] = sample_image[:, :, 2]  # Keep only blue channel\n",
    "\n",
    "plt.figure(figsize=(16, 4))\n",
    "\n",
    "plt.subplot(1, 4, 1)\n",
    "plt.imshow(sample_image)\n",
    "plt.title('Original RGB')\n",
    "plt.axis('off')\n",
    "\n",
    "plt.subplot(1, 4, 2)\n",
    "plt.imshow(red_only)\n",
    "plt.title('Red Channel Only')\n",
    "plt.axis('off')\n",
    "\n",
    "plt.subplot(1, 4, 3)\n",
    "plt.imshow(green_only)\n",
    "plt.title('Green Channel Only')\n",
    "plt.axis('off')\n",
    "\n",
    "plt.subplot(1, 4, 4)\n",
    "plt.imshow(blue_only)\n",
    "plt.title('Blue Channel Only')\n",
    "plt.axis('off')\n",
    "\n",
    "plt.tight_layout()\n",
    "plt.show()\n",
    "\n",
    "print(f\"All channel images shape: {red_only.shape}\")"
   ]
  },
  {
   "cell_type": "code",
   "execution_count": null,
   "metadata": {},
   "outputs": [],
   "source": []
  }
 ],
 "metadata": {
  "kernelspec": {
   "display_name": "eyeball",
   "language": "python",
   "name": "python3"
  },
  "language_info": {
   "codemirror_mode": {
    "name": "ipython",
    "version": 3
   },
   "file_extension": ".py",
   "mimetype": "text/x-python",
   "name": "python",
   "nbconvert_exporter": "python",
   "pygments_lexer": "ipython3",
   "version": "3.10.13"
  }
 },
 "nbformat": 4,
 "nbformat_minor": 4
}
